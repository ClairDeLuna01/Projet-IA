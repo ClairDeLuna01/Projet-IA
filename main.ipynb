{
 "cells": [
  {
   "cell_type": "code",
   "execution_count": 1,
   "metadata": {},
   "outputs": [],
   "source": [
    "import numpy as np\n",
    "import matplotlib.pyplot as plt\n",
    "import pandas as pd\n",
    "import seaborn as sns"
   ]
  },
  {
   "cell_type": "code",
   "execution_count": 30,
   "metadata": {},
   "outputs": [
    {
     "data": {
      "text/html": [
       "<div>\n",
       "<style scoped>\n",
       "    .dataframe tbody tr th:only-of-type {\n",
       "        vertical-align: middle;\n",
       "    }\n",
       "\n",
       "    .dataframe tbody tr th {\n",
       "        vertical-align: top;\n",
       "    }\n",
       "\n",
       "    .dataframe thead th {\n",
       "        text-align: right;\n",
       "    }\n",
       "</style>\n",
       "<table border=\"1\" class=\"dataframe\">\n",
       "  <thead>\n",
       "    <tr style=\"text-align: right;\">\n",
       "      <th></th>\n",
       "      <th>public_id</th>\n",
       "      <th>text</th>\n",
       "      <th>title</th>\n",
       "      <th>our rating</th>\n",
       "    </tr>\n",
       "  </thead>\n",
       "  <tbody>\n",
       "    <tr>\n",
       "      <th>0</th>\n",
       "      <td>5a228e0e</td>\n",
       "      <td>Distracted driving causes more deaths in Canad...</td>\n",
       "      <td>You Can Be Fined $1,500 If Your Passenger Is U...</td>\n",
       "      <td>false</td>\n",
       "    </tr>\n",
       "    <tr>\n",
       "      <th>1</th>\n",
       "      <td>30c605a1</td>\n",
       "      <td>Missouri politicians have made statements afte...</td>\n",
       "      <td>Missouri lawmakers condemn Las Vegas shooting</td>\n",
       "      <td>mixture</td>\n",
       "    </tr>\n",
       "    <tr>\n",
       "      <th>2</th>\n",
       "      <td>c3dea290</td>\n",
       "      <td>Home Alone 2: Lost in New York is full of viol...</td>\n",
       "      <td>CBC Cuts Donald Trump's 'Home Alone 2' Cameo O...</td>\n",
       "      <td>mixture</td>\n",
       "    </tr>\n",
       "    <tr>\n",
       "      <th>3</th>\n",
       "      <td>f14e8eb6</td>\n",
       "      <td>But things took a turn for the worse when riot...</td>\n",
       "      <td>Obama’s Daughters Caught on Camera Burning US ...</td>\n",
       "      <td>false</td>\n",
       "    </tr>\n",
       "    <tr>\n",
       "      <th>4</th>\n",
       "      <td>faf024d6</td>\n",
       "      <td>It’s no secret that Epstein and Schiff share a...</td>\n",
       "      <td>Leaked Visitor Logs Reveal Schiff’s 78 Visits ...</td>\n",
       "      <td>false</td>\n",
       "    </tr>\n",
       "    <tr>\n",
       "      <th>...</th>\n",
       "      <td>...</td>\n",
       "      <td>...</td>\n",
       "      <td>...</td>\n",
       "      <td>...</td>\n",
       "    </tr>\n",
       "    <tr>\n",
       "      <th>1259</th>\n",
       "      <td>47423bb6</td>\n",
       "      <td>More than four million calls to the taxman are...</td>\n",
       "      <td>Taxman fails to answer four million calls a ye...</td>\n",
       "      <td>true</td>\n",
       "    </tr>\n",
       "    <tr>\n",
       "      <th>1260</th>\n",
       "      <td>097c142a</td>\n",
       "      <td>More under-18s are being taken to court for se...</td>\n",
       "      <td>Police catch 11‑year‑olds being used to sell d...</td>\n",
       "      <td>true</td>\n",
       "    </tr>\n",
       "    <tr>\n",
       "      <th>1261</th>\n",
       "      <td>08bc59f4</td>\n",
       "      <td>The Government’s much vaunted Help to Buy Isa ...</td>\n",
       "      <td>Help to Buy Isa scandal: 500,000 first-time bu...</td>\n",
       "      <td>false</td>\n",
       "    </tr>\n",
       "    <tr>\n",
       "      <th>1262</th>\n",
       "      <td>af3393ce</td>\n",
       "      <td>The late Robin Williams once called cocaine “G...</td>\n",
       "      <td>A coke-snorting generation of hypocrites</td>\n",
       "      <td>true</td>\n",
       "    </tr>\n",
       "    <tr>\n",
       "      <th>1263</th>\n",
       "      <td>a39d07df</td>\n",
       "      <td>The late Robin Williams once called cocaine “G...</td>\n",
       "      <td>A coke-snorting generation of hypocrites</td>\n",
       "      <td>true</td>\n",
       "    </tr>\n",
       "  </tbody>\n",
       "</table>\n",
       "<p>1264 rows × 4 columns</p>\n",
       "</div>"
      ],
      "text/plain": [
       "     public_id                                               text  \\\n",
       "0     5a228e0e  Distracted driving causes more deaths in Canad...   \n",
       "1     30c605a1  Missouri politicians have made statements afte...   \n",
       "2     c3dea290  Home Alone 2: Lost in New York is full of viol...   \n",
       "3     f14e8eb6  But things took a turn for the worse when riot...   \n",
       "4     faf024d6  It’s no secret that Epstein and Schiff share a...   \n",
       "...        ...                                                ...   \n",
       "1259  47423bb6  More than four million calls to the taxman are...   \n",
       "1260  097c142a  More under-18s are being taken to court for se...   \n",
       "1261  08bc59f4  The Government’s much vaunted Help to Buy Isa ...   \n",
       "1262  af3393ce  The late Robin Williams once called cocaine “G...   \n",
       "1263  a39d07df  The late Robin Williams once called cocaine “G...   \n",
       "\n",
       "                                                  title our rating  \n",
       "0     You Can Be Fined $1,500 If Your Passenger Is U...      false  \n",
       "1         Missouri lawmakers condemn Las Vegas shooting    mixture  \n",
       "2     CBC Cuts Donald Trump's 'Home Alone 2' Cameo O...    mixture  \n",
       "3     Obama’s Daughters Caught on Camera Burning US ...      false  \n",
       "4     Leaked Visitor Logs Reveal Schiff’s 78 Visits ...      false  \n",
       "...                                                 ...        ...  \n",
       "1259  Taxman fails to answer four million calls a ye...       true  \n",
       "1260  Police catch 11‑year‑olds being used to sell d...       true  \n",
       "1261  Help to Buy Isa scandal: 500,000 first-time bu...      false  \n",
       "1262           A coke-snorting generation of hypocrites       true  \n",
       "1263           A coke-snorting generation of hypocrites       true  \n",
       "\n",
       "[1264 rows x 4 columns]"
      ]
     },
     "execution_count": 30,
     "metadata": {},
     "output_type": "execute_result"
    }
   ],
   "source": [
    "dataTrain = pd.read_csv('data/HAI817_Projet_train.csv')\n",
    "dataTest = pd.read_csv('data/HAI817_Projet_test.csv')\n",
    "dataTrain"
   ]
  },
  {
   "cell_type": "code",
   "execution_count": 11,
   "metadata": {},
   "outputs": [
    {
     "name": "stderr",
     "output_type": "stream",
     "text": [
      "[nltk_data] Downloading package stopwords to\n",
      "[nltk_data]     C:\\Users\\Luna\\AppData\\Roaming\\nltk_data...\n",
      "[nltk_data]   Package stopwords is already up-to-date!\n",
      "[nltk_data] Downloading package punkt to\n",
      "[nltk_data]     C:\\Users\\Luna\\AppData\\Roaming\\nltk_data...\n",
      "[nltk_data]   Unzipping tokenizers\\punkt.zip.\n"
     ]
    },
    {
     "data": {
      "text/plain": [
       "True"
      ]
     },
     "execution_count": 11,
     "metadata": {},
     "output_type": "execute_result"
    }
   ],
   "source": [
    "# nltk download\n",
    "import nltk\n",
    "nltk.download('stopwords')\n",
    "nltk.download('punkt')"
   ]
  },
  {
   "cell_type": "code",
   "execution_count": 31,
   "metadata": {},
   "outputs": [
    {
     "data": {
      "text/plain": [
       "'distracted driving causes deaths canada impaired driving every province territory laws driving operating cell phone tell passengers stay phones driving measures necessary distracted driving claimed lives impaired driving provinces like british columbia ontario quebec alberta nova scotia manitoba newfoundland labrador mobile phones even held passenger dangerous distraction driver starting next week distracted screen held passenger attracts penalty three demerit points drivers screens mix matter holding device using facetime taking selfies driver showing driver funny cat video provinces mobile phone categorised visual display unit meaning considered akin television screen important practice safe driving sake fellow drivers canada cracking distracted driving problem rollout stricter laws impose harsher penalties heftier fines guilty offenders taking effect next week adds serious penalties convicted distracted driving'"
      ]
     },
     "execution_count": 31,
     "metadata": {},
     "output_type": "execute_result"
    }
   ],
   "source": [
    "# text preprocessing\n",
    "from nltk.corpus import stopwords\n",
    "from nltk.tokenize import word_tokenize\n",
    "import string\n",
    "\n",
    "stop_words = set(stopwords.words('english'))\n",
    "punctuations = set(string.punctuation)\n",
    "\n",
    "def remove_stop_words(text):\n",
    "    # Tokenize the text\n",
    "    words = word_tokenize(text)\n",
    "    \n",
    "    # convert to lowercase\n",
    "    words = [word.lower() for word in words if word.isalpha()]\n",
    "    \n",
    "    # remove stop words\n",
    "    words = [word for word in words if word not in stop_words]\n",
    "    \n",
    "    # remove punctuation\n",
    "    words = [word for word in words if word not in punctuations]\n",
    "\n",
    "    return ' '.join(words)\n",
    "\n",
    "XpreprocessTrain = dataTrain['text'].apply(remove_stop_words)\n",
    "XpreprocessTest = dataTest['text'].apply(remove_stop_words)\n",
    "ytxtTrain = dataTrain['our rating']\n",
    "ytxtTest = dataTest['our rating']\n",
    "XpreprocessTrain[0]\n"
   ]
  },
  {
   "cell_type": "code",
   "execution_count": 41,
   "metadata": {},
   "outputs": [
    {
     "data": {
      "text/plain": [
       "array([[0, 0, 0, ..., 0, 0, 0],\n",
       "       [0, 0, 0, ..., 0, 0, 0],\n",
       "       [0, 0, 0, ..., 0, 0, 0],\n",
       "       ...,\n",
       "       [0, 0, 0, ..., 0, 0, 0],\n",
       "       [0, 0, 0, ..., 0, 0, 0],\n",
       "       [0, 0, 0, ..., 1, 1, 1]], dtype=uint8)"
      ]
     },
     "execution_count": 41,
     "metadata": {},
     "output_type": "execute_result"
    }
   ],
   "source": [
    "# Tokenization\n",
    "class Tokenizer:\n",
    "    def __init__(self):\n",
    "        self.txt2token = {}\n",
    "        self.token2txt = {}\n",
    "        self.tokens = set()\n",
    "\n",
    "    def fit(self, text: np.ndarray):\n",
    "        count = 0\n",
    "        for txt in text:\n",
    "            for word in txt.split():\n",
    "                if word not in self.txt2token:\n",
    "                    self.txt2token[word] = count\n",
    "                    self.token2txt[count] = word\n",
    "                    count += 1\n",
    "                self.tokens.add(self.txt2token[word])\n",
    "\n",
    "    def histogram(self, text):\n",
    "        tokenized_text = np.zeros((len(text), len(self.tokens)), dtype=np.uint64)\n",
    "        for i, txt in enumerate(text):\n",
    "            for word in txt.split():\n",
    "                tokenized_text[i][self.txt2token[word]] += 1\n",
    "\n",
    "        return tokenized_text\n",
    "    \n",
    "    def transform(self, text):\n",
    "        tokenized_text = []\n",
    "        for txt in text:\n",
    "            tokenized_text.append([self.txt2token[word] for word in txt.split() if word in self.txt2token])\n",
    "        return tokenized_text\n",
    "\n",
    "\n",
    "Xtokenizer = Tokenizer()\n",
    "Xtokenizer.fit(np.concatenate((np.array(XpreprocessTrain), np.array(XpreprocessTest))))\n",
    "XtokenTrain = Xtokenizer.transform(XpreprocessTrain)\n",
    "XtokenTest = Xtokenizer.transform(XpreprocessTest).astype(np.uint8)\n",
    "\n",
    "Ytokenizer = Tokenizer()\n",
    "Ytokenizer.fit(np.concatenate((np.array(ytxtTrain), np.array(ytxtTest))))\n",
    "YtokenTrain = Ytokenizer.transform(ytxtTrain)\n",
    "YtokenTest = Ytokenizer.transform(ytxtTest)\n",
    "\n",
    "XtokenTrain.shape, XtokenTest.shape, YtokenTrain.shape, YtokenTest.shape\n",
    "            "
   ]
  },
  {
   "cell_type": "code",
   "execution_count": 26,
   "metadata": {},
   "outputs": [
    {
     "data": {
      "text/plain": [
       "array([[0],\n",
       "       [1],\n",
       "       [1],\n",
       "       ...,\n",
       "       [0],\n",
       "       [3],\n",
       "       [3]], dtype=uint8)"
      ]
     },
     "execution_count": 26,
     "metadata": {},
     "output_type": "execute_result"
    }
   ],
   "source": [
    "# Y\n",
    "y = np.zeros((len(ytxt), 1), dtype=np.uint8)\n",
    "ytokens = set()\n",
    "y2token = {}\n",
    "token2y = {}\n",
    "count = 0\n",
    "for i, rating in enumerate(ytxt):\n",
    "    if rating not in y2token:\n",
    "        y2token[rating] = count\n",
    "        token2y[count] = rating\n",
    "        count += 1\n",
    "    y[i] = y2token[rating]\n",
    "    ytokens.add(y2token[rating])\n",
    "\n",
    "y\n"
   ]
  },
  {
   "cell_type": "code",
   "execution_count": 27,
   "metadata": {},
   "outputs": [
    {
     "name": "stdout",
     "output_type": "stream",
     "text": [
      "Accuracy: 0.6561264822134387\n"
     ]
    }
   ],
   "source": [
    "# classification\n",
    "# naive bayes\n",
    "\n",
    "from sklearn.feature_extraction.text import CountVectorizer\n",
    "from sklearn.naive_bayes import MultinomialNB\n",
    "from sklearn.model_selection import train_test_split\n",
    "from sklearn.metrics import accuracy_score\n",
    "\n",
    "X_train = X\n",
    "y_train = y\n",
    "\n",
    "# Create a CountVectorizer to convert text into numerical features\n",
    "vectorizer = CountVectorizer()\n",
    "X_train_vectorized = vectorizer.fit_transform(X_train)\n",
    "X_test_vectorized = vectorizer.transform(X_test)\n",
    "\n",
    "# Train a Naive Bayes classifier\n",
    "classifier = MultinomialNB()\n",
    "classifier.fit(X_train_vectorized, y_train)\n",
    "\n",
    "# Make predictions on the test set\n",
    "y_pred = classifier.predict(X_test_vectorized)\n",
    "\n",
    "# Calculate the accuracy of the classifier\n",
    "accuracy = accuracy_score(y_test, y_pred)\n",
    "print(\"Accuracy:\", accuracy)"
   ]
  }
 ],
 "metadata": {
  "kernelspec": {
   "display_name": "Python 3",
   "language": "python",
   "name": "python3"
  },
  "language_info": {
   "codemirror_mode": {
    "name": "ipython",
    "version": 3
   },
   "file_extension": ".py",
   "mimetype": "text/x-python",
   "name": "python",
   "nbconvert_exporter": "python",
   "pygments_lexer": "ipython3",
   "version": "3.9.13"
  }
 },
 "nbformat": 4,
 "nbformat_minor": 2
}
