{
 "cells": [
  {
   "cell_type": "markdown",
   "metadata": {},
   "source": [
    "# Machine Learning : Projet de Classification\n",
    "\n",
    "### Importation des librairies"
   ]
  },
  {
   "cell_type": "code",
   "execution_count": 131,
   "metadata": {},
   "outputs": [],
   "source": [
    "import numpy as np\n",
    "import pandas as pd\n",
    "import seaborn as sns\n",
    "import matplotlib.pyplot as plt"
   ]
  },
  {
   "cell_type": "markdown",
   "metadata": {},
   "source": [
    "### Lecture des fichiers de données CSV"
   ]
  },
  {
   "cell_type": "code",
   "execution_count": 132,
   "metadata": {},
   "outputs": [],
   "source": [
    "trainData = pd.read_csv('data/HAI817_Projet_train.csv') # ID, text, title, rating\n",
    "testData = pd.read_csv('data/HAI817_Projet_test.csv') # ID, text, title, rating"
   ]
  },
  {
   "cell_type": "markdown",
   "metadata": {},
   "source": [
    "### Tokenization"
   ]
  },
  {
   "cell_type": "code",
   "execution_count": 133,
   "metadata": {},
   "outputs": [
    {
     "name": "stderr",
     "output_type": "stream",
     "text": [
      "[nltk_data] Downloading package punkt to\n",
      "[nltk_data]     C:\\Users\\Valentin\\AppData\\Roaming\\nltk_data...\n",
      "[nltk_data]   Package punkt is already up-to-date!\n",
      "[nltk_data] Downloading package stopwords to\n",
      "[nltk_data]     C:\\Users\\Valentin\\AppData\\Roaming\\nltk_data...\n",
      "[nltk_data]   Package stopwords is already up-to-date!\n"
     ]
    }
   ],
   "source": [
    "import nltk\n",
    "from nltk.corpus import stopwords\n",
    "from string import punctuation\n",
    "\n",
    "nltk.download('punkt')\n",
    "nltk.download('stopwords')\n",
    "\n",
    "def tokenizeData(data):\n",
    "    tokens = nltk.word_tokenize(data)\n",
    "\n",
    "    tokens = [token for token in tokens if token not in punctuation]\n",
    "    tokens = [token for token in tokens if token.lower() not in set(stopwords.words('english'))]\n",
    "\n",
    "    return tokens"
   ]
  },
  {
   "cell_type": "markdown",
   "metadata": {},
   "source": [
    "### Filtrage des données"
   ]
  },
  {
   "cell_type": "code",
   "execution_count": 134,
   "metadata": {},
   "outputs": [],
   "source": [
    "from sklearn.utils import resample\n",
    "\n",
    "positiveClass = trainData[trainData['our rating'] == 'true']\n",
    "negativeClass = trainData[trainData['our rating'] == 'false']\n",
    "\n",
    "if (len(negativeClass) > len(positiveClass)):\n",
    "    negativeClass = resample(negativeClass, replace=False, n_samples=len(positiveClass))\n",
    "else:\n",
    "    positiveClass = resample(positiveClass, replace=False, n_samples=len(negativeClass))\n",
    "\n",
    "filteredTrainData = pd.concat([negativeClass, positiveClass]).sample(frac=1)\n",
    "\n",
    "filteredTestData = testData[testData['our rating'].isin(['true', 'false'])]"
   ]
  },
  {
   "cell_type": "markdown",
   "metadata": {},
   "source": [
    "### Classification"
   ]
  },
  {
   "cell_type": "code",
   "execution_count": 136,
   "metadata": {},
   "outputs": [
    {
     "name": "stdout",
     "output_type": "stream",
     "text": [
      "Création de la pipeline\n",
      "Entraînement\n"
     ]
    },
    {
     "name": "stderr",
     "output_type": "stream",
     "text": [
      "c:\\Python311\\Lib\\site-packages\\sklearn\\feature_extraction\\text.py:523: UserWarning: The parameter 'token_pattern' will not be used since 'tokenizer' is not None'\n",
      "  warnings.warn(\n"
     ]
    },
    {
     "name": "stdout",
     "output_type": "stream",
     "text": [
      "Prédiction\n"
     ]
    }
   ],
   "source": [
    "from sklearn.feature_extraction.text import CountVectorizer, TfidfTransformer\n",
    "from sklearn.naive_bayes import MultinomialNB\n",
    "from sklearn.svm import SVC\n",
    "from sklearn.pipeline import Pipeline\n",
    "\n",
    "print(\"Création de la pipeline\")\n",
    "\n",
    "pipeline = Pipeline([\n",
    "    ('bow', CountVectorizer(tokenizer=tokenizeData)),\n",
    "    ('tfidf', TfidfTransformer()),\n",
    "    ('classifier', MultinomialNB())\n",
    "])\n",
    "\n",
    "xTrainData = filteredTrainData['text']\n",
    "yTrainData = filteredTrainData['our rating']\n",
    "\n",
    "xTestData = filteredTestData['text']\n",
    "\n",
    "print(\"Entraînement\")\n",
    "\n",
    "pipeline.fit(xTrainData.values, yTrainData)\n",
    "\n",
    "print(\"Prédiction\")\n",
    "\n",
    "predicted = pipeline.predict(xTestData.values)"
   ]
  },
  {
   "cell_type": "markdown",
   "metadata": {},
   "source": [
    "### Évaluation des résultats"
   ]
  },
  {
   "cell_type": "code",
   "execution_count": 138,
   "metadata": {},
   "outputs": [
    {
     "data": {
      "image/png": "[encoded data removed]",
      "text/plain": [
       "<Figure size 400x300 with 3 Axes>"
      ]
     },
     "metadata": {},
     "output_type": "display_data"
    }
   ],
   "source": [
    "from sklearn.metrics import confusion_matrix\n",
    "\n",
    "testLabels = filteredTestData['our rating']\n",
    "\n",
    "confusionMatrix = confusion_matrix(testLabels, predicted)\n",
    "\n",
    "vmin = np.min(confusionMatrix)\n",
    "vmax = np.max(confusionMatrix)\n",
    "\n",
    "diagonal = np.eye(*confusionMatrix.shape, dtype=bool)\n",
    "\n",
    "learningClasses = pipeline.classes_\n",
    "\n",
    "plt.figure(figsize=(4, 3))\n",
    "sns.heatmap(confusionMatrix, annot=True, fmt=\"d\", mask=~diagonal, cmap='Greens', vmin=vmin, vmax=vmax, xticklabels=learningClasses, yticklabels=learningClasses)\n",
    "sns.heatmap(confusionMatrix, annot=True, fmt=\"d\", mask=diagonal, cmap='Reds', vmin=vmin, vmax=vmax, xticklabels=learningClasses, yticklabels=learningClasses, cbar_kws=dict(ticks=[]))\n",
    "plt.xlabel('Prédictions')\n",
    "plt.ylabel('Vraies valeurs')\n",
    "plt.show()"
   ]
  }
 ],
 "metadata": {
  "kernelspec": {
   "display_name": "Python 3",
   "language": "python",
   "name": "python3"
  },
  "language_info": {
   "codemirror_mode": {
    "name": "ipython",
    "version": 3
   },
   "file_extension": ".py",
   "mimetype": "text/x-python",
   "name": "python",
   "nbconvert_exporter": "python",
   "pygments_lexer": "ipython3",
   "version": "3.11.5"
  }
 },
 "nbformat": 4,
 "nbformat_minor": 2
}
